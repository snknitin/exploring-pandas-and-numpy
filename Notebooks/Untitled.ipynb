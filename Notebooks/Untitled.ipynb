{
 "cells": [
  {
   "cell_type": "code",
   "execution_count": 1,
   "id": "44c0ba61",
   "metadata": {},
   "outputs": [],
   "source": [
    "# Necessary Imports\n",
    "import os\n",
    "import pathlib\n",
    "import pyrootutils\n",
    "import pandas as pd\n",
    "import numpy as np \n",
    "import re\n",
    "import opendatasets as od "
   ]
  },
  {
   "cell_type": "code",
   "execution_count": 2,
   "id": "b5c6288e",
   "metadata": {},
   "outputs": [],
   "source": [
    "root = pyrootutils.setup_root(os.getcwd(), dotenv=True, pythonpath=True)\n",
    "data_path = root/\"Data\"\n",
    "report_dir = root/\"EDA\""
   ]
  },
  {
   "cell_type": "code",
   "execution_count": 3,
   "id": "e18ac7bd",
   "metadata": {},
   "outputs": [],
   "source": [
    "report_dir.mkdir(parents=True, exist_ok=True)"
   ]
  },
  {
   "cell_type": "code",
   "execution_count": 4,
   "id": "3f35b962",
   "metadata": {},
   "outputs": [],
   "source": [
    "def reduce_memory_usage(df, verbose=True):\n",
    "    \"\"\"\n",
    "    Helper method to reduce the memory requirements of the datafrmae\n",
    "    :param df:\n",
    "    :param verbose:\n",
    "    :return:\n",
    "    \"\"\"\n",
    "    numerics = [\"int8\", \"int16\", \"int32\", \"int64\", \"float32\", \"float64\"]\n",
    "    start_mem = df.memory_usage().sum() / 1024 ** 2\n",
    "    for col in df.columns:\n",
    "        col_type = df[col].dtypes\n",
    "        if col_type in numerics:\n",
    "            c_min = df[col].min()\n",
    "            c_max = df[col].max()\n",
    "            if str(col_type)[:3] == \"int\":\n",
    "                if c_min > np.iinfo(np.int8).min and c_max < np.iinfo(np.int8).max:\n",
    "                    df[col] = df[col].astype(np.int8)\n",
    "                elif c_min > np.iinfo(np.int16).min and c_max < np.iinfo(np.int16).max:\n",
    "                    df[col] = df[col].astype(np.int16)\n",
    "                elif c_min > np.iinfo(np.int32).min and c_max < np.iinfo(np.int32).max:\n",
    "                    df[col] = df[col].astype(np.int32)\n",
    "                elif c_min > np.iinfo(np.int64).min and c_max < np.iinfo(np.int64).max:\n",
    "                    df[col] = df[col].astype(np.int64)\n",
    "            else:\n",
    "                if (\n",
    "                    c_min > np.finfo(np.float32).min\n",
    "                    and c_max < np.finfo(np.float32).max\n",
    "                ):\n",
    "                    df[col] = df[col].astype(np.float32)\n",
    "                else:\n",
    "                    df[col] = df[col].astype(np.float64)\n",
    "    end_mem = df.memory_usage().sum() / 1024 ** 2\n",
    "    if verbose:\n",
    "        print(\"Mem. usage decreased to {:.2f} Mb ({:.1f}% reduction)\".format(end_mem, 100 * (start_mem - end_mem) / start_mem))\n",
    "    return df"
   ]
  },
  {
   "cell_type": "code",
   "execution_count": 5,
   "id": "22a5f1aa",
   "metadata": {},
   "outputs": [
    {
     "name": "stdout",
     "output_type": "stream",
     "text": [
      "Mem. usage decreased to 0.13 Mb (49.4% reduction)\n"
     ]
    }
   ],
   "source": [
    "df = pd.read_csv(data_path/\"pokemon.csv\")\n",
    "df = reduce_memory_usage(df)"
   ]
  },
  {
   "cell_type": "code",
   "execution_count": 6,
   "id": "3b610a1f",
   "metadata": {},
   "outputs": [
    {
     "data": {
      "text/html": [
       "<style type=\"text/css\">\n",
       "#T_8ebd3_row0_col1, #T_8ebd3_row1_col1, #T_8ebd3_row2_col1, #T_8ebd3_row3_col1, #T_8ebd3_row4_col1, #T_8ebd3_row6_col1, #T_8ebd3_row7_col1, #T_8ebd3_row8_col1, #T_8ebd3_row9_col1, #T_8ebd3_row10_col1, #T_8ebd3_row11_col1, #T_8ebd3_row12_col1, #T_8ebd3_row13_col1, #T_8ebd3_row14_col1, #T_8ebd3_row15_col1 {\n",
       "  width: 10em;\n",
       "  background: linear-gradient(90deg, #205ff2 0.0%, transparent 0.0%);\n",
       "}\n",
       "#T_8ebd3_row0_col2, #T_8ebd3_row1_col2, #T_8ebd3_row2_col2, #T_8ebd3_row3_col2, #T_8ebd3_row4_col2, #T_8ebd3_row6_col2, #T_8ebd3_row7_col2, #T_8ebd3_row8_col2, #T_8ebd3_row9_col2, #T_8ebd3_row10_col2, #T_8ebd3_row11_col2, #T_8ebd3_row12_col2, #T_8ebd3_row13_col2, #T_8ebd3_row14_col2, #T_8ebd3_row15_col2 {\n",
       "  background-color: #fff5f0;\n",
       "  color: #000000;\n",
       "}\n",
       "#T_8ebd3_row0_col5, #T_8ebd3_row1_col5, #T_8ebd3_row2_col5, #T_8ebd3_row3_col5, #T_8ebd3_row4_col5, #T_8ebd3_row6_col5, #T_8ebd3_row7_col5, #T_8ebd3_row8_col5, #T_8ebd3_row9_col5, #T_8ebd3_row10_col5, #T_8ebd3_row11_col5, #T_8ebd3_row12_col5, #T_8ebd3_row13_col5, #T_8ebd3_row14_col5, #T_8ebd3_row15_col5 {\n",
       "  background-color: #3b4cc0;\n",
       "  color: #f1f1f1;\n",
       "}\n",
       "#T_8ebd3_row5_col1 {\n",
       "  width: 10em;\n",
       "  background: linear-gradient(90deg, #205ff2 100.0%, transparent 100.0%);\n",
       "}\n",
       "#T_8ebd3_row5_col2 {\n",
       "  background-color: #67000d;\n",
       "  color: #f1f1f1;\n",
       "}\n",
       "#T_8ebd3_row5_col5 {\n",
       "  background-color: #b40426;\n",
       "  color: #f1f1f1;\n",
       "}\n",
       "</style>\n",
       "<table id=\"T_8ebd3\">\n",
       "  <thead>\n",
       "    <tr>\n",
       "      <th class=\"blank level0\" >&nbsp;</th>\n",
       "      <th id=\"T_8ebd3_level0_col0\" class=\"col_heading level0 col0\" >count</th>\n",
       "      <th id=\"T_8ebd3_level0_col1\" class=\"col_heading level0 col1\" >mean</th>\n",
       "      <th id=\"T_8ebd3_level0_col2\" class=\"col_heading level0 col2\" >std</th>\n",
       "      <th id=\"T_8ebd3_level0_col3\" class=\"col_heading level0 col3\" >min</th>\n",
       "      <th id=\"T_8ebd3_level0_col4\" class=\"col_heading level0 col4\" >25%</th>\n",
       "      <th id=\"T_8ebd3_level0_col5\" class=\"col_heading level0 col5\" >50%</th>\n",
       "      <th id=\"T_8ebd3_level0_col6\" class=\"col_heading level0 col6\" >75%</th>\n",
       "      <th id=\"T_8ebd3_level0_col7\" class=\"col_heading level0 col7\" >max</th>\n",
       "    </tr>\n",
       "  </thead>\n",
       "  <tbody>\n",
       "    <tr>\n",
       "      <th id=\"T_8ebd3_level0_row0\" class=\"row_heading level0 row0\" >percentage_male</th>\n",
       "      <td id=\"T_8ebd3_row0_col0\" class=\"data row0 col0\" >703.000000</td>\n",
       "      <td id=\"T_8ebd3_row0_col1\" class=\"data row0 col1\" >55.155762</td>\n",
       "      <td id=\"T_8ebd3_row0_col2\" class=\"data row0 col2\" >20.261595</td>\n",
       "      <td id=\"T_8ebd3_row0_col3\" class=\"data row0 col3\" >0.000000</td>\n",
       "      <td id=\"T_8ebd3_row0_col4\" class=\"data row0 col4\" >50.000000</td>\n",
       "      <td id=\"T_8ebd3_row0_col5\" class=\"data row0 col5\" >50.000000</td>\n",
       "      <td id=\"T_8ebd3_row0_col6\" class=\"data row0 col6\" >50.000000</td>\n",
       "      <td id=\"T_8ebd3_row0_col7\" class=\"data row0 col7\" >100.000000</td>\n",
       "    </tr>\n",
       "    <tr>\n",
       "      <th id=\"T_8ebd3_level0_row1\" class=\"row_heading level0 row1\" >speed</th>\n",
       "      <td id=\"T_8ebd3_row1_col0\" class=\"data row1 col0\" >801.000000</td>\n",
       "      <td id=\"T_8ebd3_row1_col1\" class=\"data row1 col1\" >66.334582</td>\n",
       "      <td id=\"T_8ebd3_row1_col2\" class=\"data row1 col2\" >28.907662</td>\n",
       "      <td id=\"T_8ebd3_row1_col3\" class=\"data row1 col3\" >5.000000</td>\n",
       "      <td id=\"T_8ebd3_row1_col4\" class=\"data row1 col4\" >45.000000</td>\n",
       "      <td id=\"T_8ebd3_row1_col5\" class=\"data row1 col5\" >65.000000</td>\n",
       "      <td id=\"T_8ebd3_row1_col6\" class=\"data row1 col6\" >85.000000</td>\n",
       "      <td id=\"T_8ebd3_row1_col7\" class=\"data row1 col7\" >180.000000</td>\n",
       "    </tr>\n",
       "    <tr>\n",
       "      <th id=\"T_8ebd3_level0_row2\" class=\"row_heading level0 row2\" >hp</th>\n",
       "      <td id=\"T_8ebd3_row2_col0\" class=\"data row2 col0\" >801.000000</td>\n",
       "      <td id=\"T_8ebd3_row2_col1\" class=\"data row2 col1\" >68.958801</td>\n",
       "      <td id=\"T_8ebd3_row2_col2\" class=\"data row2 col2\" >26.576015</td>\n",
       "      <td id=\"T_8ebd3_row2_col3\" class=\"data row2 col3\" >1.000000</td>\n",
       "      <td id=\"T_8ebd3_row2_col4\" class=\"data row2 col4\" >50.000000</td>\n",
       "      <td id=\"T_8ebd3_row2_col5\" class=\"data row2 col5\" >65.000000</td>\n",
       "      <td id=\"T_8ebd3_row2_col6\" class=\"data row2 col6\" >80.000000</td>\n",
       "      <td id=\"T_8ebd3_row2_col7\" class=\"data row2 col7\" >255.000000</td>\n",
       "    </tr>\n",
       "    <tr>\n",
       "      <th id=\"T_8ebd3_level0_row3\" class=\"row_heading level0 row3\" >against_normal</th>\n",
       "      <td id=\"T_8ebd3_row3_col0\" class=\"data row3 col0\" >801.000000</td>\n",
       "      <td id=\"T_8ebd3_row3_col1\" class=\"data row3 col1\" >0.887016</td>\n",
       "      <td id=\"T_8ebd3_row3_col2\" class=\"data row3 col2\" >0.266106</td>\n",
       "      <td id=\"T_8ebd3_row3_col3\" class=\"data row3 col3\" >0.000000</td>\n",
       "      <td id=\"T_8ebd3_row3_col4\" class=\"data row3 col4\" >1.000000</td>\n",
       "      <td id=\"T_8ebd3_row3_col5\" class=\"data row3 col5\" >1.000000</td>\n",
       "      <td id=\"T_8ebd3_row3_col6\" class=\"data row3 col6\" >1.000000</td>\n",
       "      <td id=\"T_8ebd3_row3_col7\" class=\"data row3 col7\" >1.000000</td>\n",
       "    </tr>\n",
       "    <tr>\n",
       "      <th id=\"T_8ebd3_level0_row4\" class=\"row_heading level0 row4\" >height_m</th>\n",
       "      <td id=\"T_8ebd3_row4_col0\" class=\"data row4 col0\" >781.000000</td>\n",
       "      <td id=\"T_8ebd3_row4_col1\" class=\"data row4 col1\" >1.163892</td>\n",
       "      <td id=\"T_8ebd3_row4_col2\" class=\"data row4 col2\" >1.080328</td>\n",
       "      <td id=\"T_8ebd3_row4_col3\" class=\"data row4 col3\" >0.100000</td>\n",
       "      <td id=\"T_8ebd3_row4_col4\" class=\"data row4 col4\" >0.600000</td>\n",
       "      <td id=\"T_8ebd3_row4_col5\" class=\"data row4 col5\" >1.000000</td>\n",
       "      <td id=\"T_8ebd3_row4_col6\" class=\"data row4 col6\" >1.500000</td>\n",
       "      <td id=\"T_8ebd3_row4_col7\" class=\"data row4 col7\" >14.500000</td>\n",
       "    </tr>\n",
       "    <tr>\n",
       "      <th id=\"T_8ebd3_level0_row5\" class=\"row_heading level0 row5\" >experience_growth</th>\n",
       "      <td id=\"T_8ebd3_row5_col0\" class=\"data row5 col0\" >801.000000</td>\n",
       "      <td id=\"T_8ebd3_row5_col1\" class=\"data row5 col1\" >1054995.905119</td>\n",
       "      <td id=\"T_8ebd3_row5_col2\" class=\"data row5 col2\" >160255.835096</td>\n",
       "      <td id=\"T_8ebd3_row5_col3\" class=\"data row5 col3\" >600000.000000</td>\n",
       "      <td id=\"T_8ebd3_row5_col4\" class=\"data row5 col4\" >1000000.000000</td>\n",
       "      <td id=\"T_8ebd3_row5_col5\" class=\"data row5 col5\" >1000000.000000</td>\n",
       "      <td id=\"T_8ebd3_row5_col6\" class=\"data row5 col6\" >1059860.000000</td>\n",
       "      <td id=\"T_8ebd3_row5_col7\" class=\"data row5 col7\" >1640000.000000</td>\n",
       "    </tr>\n",
       "    <tr>\n",
       "      <th id=\"T_8ebd3_level0_row6\" class=\"row_heading level0 row6\" >against_psychic</th>\n",
       "      <td id=\"T_8ebd3_row6_col0\" class=\"data row6 col0\" >801.000000</td>\n",
       "      <td id=\"T_8ebd3_row6_col1\" class=\"data row6 col1\" >1.005306</td>\n",
       "      <td id=\"T_8ebd3_row6_col2\" class=\"data row6 col2\" >0.495184</td>\n",
       "      <td id=\"T_8ebd3_row6_col3\" class=\"data row6 col3\" >0.000000</td>\n",
       "      <td id=\"T_8ebd3_row6_col4\" class=\"data row6 col4\" >1.000000</td>\n",
       "      <td id=\"T_8ebd3_row6_col5\" class=\"data row6 col5\" >1.000000</td>\n",
       "      <td id=\"T_8ebd3_row6_col6\" class=\"data row6 col6\" >1.000000</td>\n",
       "      <td id=\"T_8ebd3_row6_col7\" class=\"data row6 col7\" >4.000000</td>\n",
       "    </tr>\n",
       "    <tr>\n",
       "      <th id=\"T_8ebd3_level0_row7\" class=\"row_heading level0 row7\" >against_ground</th>\n",
       "      <td id=\"T_8ebd3_row7_col0\" class=\"data row7 col0\" >801.000000</td>\n",
       "      <td id=\"T_8ebd3_row7_col1\" class=\"data row7 col1\" >1.098003</td>\n",
       "      <td id=\"T_8ebd3_row7_col2\" class=\"data row7 col2\" >0.738818</td>\n",
       "      <td id=\"T_8ebd3_row7_col3\" class=\"data row7 col3\" >0.000000</td>\n",
       "      <td id=\"T_8ebd3_row7_col4\" class=\"data row7 col4\" >1.000000</td>\n",
       "      <td id=\"T_8ebd3_row7_col5\" class=\"data row7 col5\" >1.000000</td>\n",
       "      <td id=\"T_8ebd3_row7_col6\" class=\"data row7 col6\" >1.000000</td>\n",
       "      <td id=\"T_8ebd3_row7_col7\" class=\"data row7 col7\" >4.000000</td>\n",
       "    </tr>\n",
       "    <tr>\n",
       "      <th id=\"T_8ebd3_level0_row8\" class=\"row_heading level0 row8\" >against_flying</th>\n",
       "      <td id=\"T_8ebd3_row8_col0\" class=\"data row8 col0\" >801.000000</td>\n",
       "      <td id=\"T_8ebd3_row8_col1\" class=\"data row8 col1\" >1.192884</td>\n",
       "      <td id=\"T_8ebd3_row8_col2\" class=\"data row8 col2\" >0.604487</td>\n",
       "      <td id=\"T_8ebd3_row8_col3\" class=\"data row8 col3\" >0.250000</td>\n",
       "      <td id=\"T_8ebd3_row8_col4\" class=\"data row8 col4\" >1.000000</td>\n",
       "      <td id=\"T_8ebd3_row8_col5\" class=\"data row8 col5\" >1.000000</td>\n",
       "      <td id=\"T_8ebd3_row8_col6\" class=\"data row8 col6\" >1.000000</td>\n",
       "      <td id=\"T_8ebd3_row8_col7\" class=\"data row8 col7\" >4.000000</td>\n",
       "    </tr>\n",
       "    <tr>\n",
       "      <th id=\"T_8ebd3_level0_row9\" class=\"row_heading level0 row9\" >against_electric</th>\n",
       "      <td id=\"T_8ebd3_row9_col0\" class=\"data row9 col0\" >801.000000</td>\n",
       "      <td id=\"T_8ebd3_row9_col1\" class=\"data row9 col1\" >1.073970</td>\n",
       "      <td id=\"T_8ebd3_row9_col2\" class=\"data row9 col2\" >0.654961</td>\n",
       "      <td id=\"T_8ebd3_row9_col3\" class=\"data row9 col3\" >0.000000</td>\n",
       "      <td id=\"T_8ebd3_row9_col4\" class=\"data row9 col4\" >0.500000</td>\n",
       "      <td id=\"T_8ebd3_row9_col5\" class=\"data row9 col5\" >1.000000</td>\n",
       "      <td id=\"T_8ebd3_row9_col6\" class=\"data row9 col6\" >1.000000</td>\n",
       "      <td id=\"T_8ebd3_row9_col7\" class=\"data row9 col7\" >4.000000</td>\n",
       "    </tr>\n",
       "    <tr>\n",
       "      <th id=\"T_8ebd3_level0_row10\" class=\"row_heading level0 row10\" >attack</th>\n",
       "      <td id=\"T_8ebd3_row10_col0\" class=\"data row10 col0\" >801.000000</td>\n",
       "      <td id=\"T_8ebd3_row10_col1\" class=\"data row10 col1\" >77.857678</td>\n",
       "      <td id=\"T_8ebd3_row10_col2\" class=\"data row10 col2\" >32.158820</td>\n",
       "      <td id=\"T_8ebd3_row10_col3\" class=\"data row10 col3\" >5.000000</td>\n",
       "      <td id=\"T_8ebd3_row10_col4\" class=\"data row10 col4\" >55.000000</td>\n",
       "      <td id=\"T_8ebd3_row10_col5\" class=\"data row10 col5\" >75.000000</td>\n",
       "      <td id=\"T_8ebd3_row10_col6\" class=\"data row10 col6\" >100.000000</td>\n",
       "      <td id=\"T_8ebd3_row10_col7\" class=\"data row10 col7\" >185.000000</td>\n",
       "    </tr>\n",
       "    <tr>\n",
       "      <th id=\"T_8ebd3_level0_row11\" class=\"row_heading level0 row11\" >is_legendary</th>\n",
       "      <td id=\"T_8ebd3_row11_col0\" class=\"data row11 col0\" >801.000000</td>\n",
       "      <td id=\"T_8ebd3_row11_col1\" class=\"data row11 col1\" >0.087391</td>\n",
       "      <td id=\"T_8ebd3_row11_col2\" class=\"data row11 col2\" >0.282583</td>\n",
       "      <td id=\"T_8ebd3_row11_col3\" class=\"data row11 col3\" >0.000000</td>\n",
       "      <td id=\"T_8ebd3_row11_col4\" class=\"data row11 col4\" >0.000000</td>\n",
       "      <td id=\"T_8ebd3_row11_col5\" class=\"data row11 col5\" >0.000000</td>\n",
       "      <td id=\"T_8ebd3_row11_col6\" class=\"data row11 col6\" >0.000000</td>\n",
       "      <td id=\"T_8ebd3_row11_col7\" class=\"data row11 col7\" >1.000000</td>\n",
       "    </tr>\n",
       "    <tr>\n",
       "      <th id=\"T_8ebd3_level0_row12\" class=\"row_heading level0 row12\" >against_fire</th>\n",
       "      <td id=\"T_8ebd3_row12_col0\" class=\"data row12 col0\" >801.000000</td>\n",
       "      <td id=\"T_8ebd3_row12_col1\" class=\"data row12 col1\" >1.135456</td>\n",
       "      <td id=\"T_8ebd3_row12_col2\" class=\"data row12 col2\" >0.691852</td>\n",
       "      <td id=\"T_8ebd3_row12_col3\" class=\"data row12 col3\" >0.250000</td>\n",
       "      <td id=\"T_8ebd3_row12_col4\" class=\"data row12 col4\" >0.500000</td>\n",
       "      <td id=\"T_8ebd3_row12_col5\" class=\"data row12 col5\" >1.000000</td>\n",
       "      <td id=\"T_8ebd3_row12_col6\" class=\"data row12 col6\" >2.000000</td>\n",
       "      <td id=\"T_8ebd3_row12_col7\" class=\"data row12 col7\" >4.000000</td>\n",
       "    </tr>\n",
       "    <tr>\n",
       "      <th id=\"T_8ebd3_level0_row13\" class=\"row_heading level0 row13\" >base_happiness</th>\n",
       "      <td id=\"T_8ebd3_row13_col0\" class=\"data row13 col0\" >801.000000</td>\n",
       "      <td id=\"T_8ebd3_row13_col1\" class=\"data row13 col1\" >65.362047</td>\n",
       "      <td id=\"T_8ebd3_row13_col2\" class=\"data row13 col2\" >19.598948</td>\n",
       "      <td id=\"T_8ebd3_row13_col3\" class=\"data row13 col3\" >0.000000</td>\n",
       "      <td id=\"T_8ebd3_row13_col4\" class=\"data row13 col4\" >70.000000</td>\n",
       "      <td id=\"T_8ebd3_row13_col5\" class=\"data row13 col5\" >70.000000</td>\n",
       "      <td id=\"T_8ebd3_row13_col6\" class=\"data row13 col6\" >70.000000</td>\n",
       "      <td id=\"T_8ebd3_row13_col7\" class=\"data row13 col7\" >140.000000</td>\n",
       "    </tr>\n",
       "    <tr>\n",
       "      <th id=\"T_8ebd3_level0_row14\" class=\"row_heading level0 row14\" >against_dragon</th>\n",
       "      <td id=\"T_8ebd3_row14_col0\" class=\"data row14 col0\" >801.000000</td>\n",
       "      <td id=\"T_8ebd3_row14_col1\" class=\"data row14 col1\" >0.968789</td>\n",
       "      <td id=\"T_8ebd3_row14_col2\" class=\"data row14 col2\" >0.353057</td>\n",
       "      <td id=\"T_8ebd3_row14_col3\" class=\"data row14 col3\" >0.000000</td>\n",
       "      <td id=\"T_8ebd3_row14_col4\" class=\"data row14 col4\" >1.000000</td>\n",
       "      <td id=\"T_8ebd3_row14_col5\" class=\"data row14 col5\" >1.000000</td>\n",
       "      <td id=\"T_8ebd3_row14_col6\" class=\"data row14 col6\" >1.000000</td>\n",
       "      <td id=\"T_8ebd3_row14_col7\" class=\"data row14 col7\" >2.000000</td>\n",
       "    </tr>\n",
       "    <tr>\n",
       "      <th id=\"T_8ebd3_level0_row15\" class=\"row_heading level0 row15\" >against_grass</th>\n",
       "      <td id=\"T_8ebd3_row15_col0\" class=\"data row15 col0\" >801.000000</td>\n",
       "      <td id=\"T_8ebd3_row15_col1\" class=\"data row15 col1\" >1.034020</td>\n",
       "      <td id=\"T_8ebd3_row15_col2\" class=\"data row15 col2\" >0.788897</td>\n",
       "      <td id=\"T_8ebd3_row15_col3\" class=\"data row15 col3\" >0.250000</td>\n",
       "      <td id=\"T_8ebd3_row15_col4\" class=\"data row15 col4\" >0.500000</td>\n",
       "      <td id=\"T_8ebd3_row15_col5\" class=\"data row15 col5\" >1.000000</td>\n",
       "      <td id=\"T_8ebd3_row15_col6\" class=\"data row15 col6\" >1.000000</td>\n",
       "      <td id=\"T_8ebd3_row15_col7\" class=\"data row15 col7\" >4.000000</td>\n",
       "    </tr>\n",
       "  </tbody>\n",
       "</table>\n"
      ],
      "text/plain": [
       "<pandas.io.formats.style.Styler at 0x25bddef6a90>"
      ]
     },
     "execution_count": 6,
     "metadata": {},
     "output_type": "execute_result"
    }
   ],
   "source": [
    "df.sample(20, axis=1).describe().T.style.bar(subset=[\"mean\"], color=\"#205ff2\").background_gradient(subset=[\"std\"], cmap=\"Reds\").background_gradient(subset=[\"50%\"], cmap=\"coolwarm\")"
   ]
  },
  {
   "cell_type": "code",
   "execution_count": 7,
   "id": "8878fa81",
   "metadata": {},
   "outputs": [
    {
     "data": {
      "text/html": [
       "<div>\n",
       "<style scoped>\n",
       "    .dataframe tbody tr th:only-of-type {\n",
       "        vertical-align: middle;\n",
       "    }\n",
       "\n",
       "    .dataframe tbody tr th {\n",
       "        vertical-align: top;\n",
       "    }\n",
       "\n",
       "    .dataframe thead th {\n",
       "        text-align: right;\n",
       "    }\n",
       "</style>\n",
       "<table border=\"1\" class=\"dataframe\">\n",
       "  <thead>\n",
       "    <tr style=\"text-align: right;\">\n",
       "      <th></th>\n",
       "      <th>abilities</th>\n",
       "      <th>type1</th>\n",
       "      <th>type2</th>\n",
       "      <th>weight_kg</th>\n",
       "    </tr>\n",
       "  </thead>\n",
       "  <tbody>\n",
       "    <tr>\n",
       "      <th>405</th>\n",
       "      <td>['Natural Cure', 'Poison Point', 'Leaf Guard']</td>\n",
       "      <td>grass</td>\n",
       "      <td>poison</td>\n",
       "      <td>1.200000</td>\n",
       "    </tr>\n",
       "    <tr>\n",
       "      <th>757</th>\n",
       "      <td>['Corrosion', 'Oblivious']</td>\n",
       "      <td>poison</td>\n",
       "      <td>fire</td>\n",
       "      <td>22.200001</td>\n",
       "    </tr>\n",
       "    <tr>\n",
       "      <th>796</th>\n",
       "      <td>['Beast Boost']</td>\n",
       "      <td>steel</td>\n",
       "      <td>flying</td>\n",
       "      <td>999.900024</td>\n",
       "    </tr>\n",
       "    <tr>\n",
       "      <th>370</th>\n",
       "      <td>['Rock Head', 'Sheer Force']</td>\n",
       "      <td>dragon</td>\n",
       "      <td>NaN</td>\n",
       "      <td>42.099998</td>\n",
       "    </tr>\n",
       "    <tr>\n",
       "      <th>113</th>\n",
       "      <td>['Chlorophyll', 'Leaf Guard', 'Regenerator']</td>\n",
       "      <td>grass</td>\n",
       "      <td>NaN</td>\n",
       "      <td>35.000000</td>\n",
       "    </tr>\n",
       "  </tbody>\n",
       "</table>\n",
       "</div>"
      ],
      "text/plain": [
       "                                          abilities   type1   type2  \\\n",
       "405  ['Natural Cure', 'Poison Point', 'Leaf Guard']   grass  poison   \n",
       "757                      ['Corrosion', 'Oblivious']  poison    fire   \n",
       "796                                 ['Beast Boost']   steel  flying   \n",
       "370                    ['Rock Head', 'Sheer Force']  dragon     NaN   \n",
       "113    ['Chlorophyll', 'Leaf Guard', 'Regenerator']   grass     NaN   \n",
       "\n",
       "      weight_kg  \n",
       "405    1.200000  \n",
       "757   22.200001  \n",
       "796  999.900024  \n",
       "370   42.099998  \n",
       "113   35.000000  "
      ]
     },
     "execution_count": 7,
     "metadata": {},
     "output_type": "execute_result"
    }
   ],
   "source": [
    "df2 =  df.sample(5)[[\"abilities\",\"type1\",\"type2\",\"weight_kg\"]]\n",
    "df2"
   ]
  },
  {
   "cell_type": "code",
   "execution_count": 9,
   "id": "823c26a9",
   "metadata": {},
   "outputs": [
    {
     "data": {
      "application/vnd.jupyter.widget-view+json": {
       "model_id": "8c4614ed16b0447a818117bb3cff0797",
       "version_major": 2,
       "version_minor": 0
      },
      "text/plain": [
       "Summarize dataset:   0%|          | 0/5 [00:00<?, ?it/s]"
      ]
     },
     "metadata": {},
     "output_type": "display_data"
    },
    {
     "data": {
      "application/vnd.jupyter.widget-view+json": {
       "model_id": "e0680ad896ad42eabd988615d61d8884",
       "version_major": 2,
       "version_minor": 0
      },
      "text/plain": [
       "Generate report structure:   0%|          | 0/1 [00:00<?, ?it/s]"
      ]
     },
     "metadata": {},
     "output_type": "display_data"
    },
    {
     "data": {
      "application/vnd.jupyter.widget-view+json": {
       "model_id": "81f8ac6d17da4f24b2585d580e62b9f0",
       "version_major": 2,
       "version_minor": 0
      },
      "text/plain": [
       "Render HTML:   0%|          | 0/1 [00:00<?, ?it/s]"
      ]
     },
     "metadata": {},
     "output_type": "display_data"
    },
    {
     "data": {
      "application/vnd.jupyter.widget-view+json": {
       "model_id": "f130526f674d48abab7c866528c49417",
       "version_major": 2,
       "version_minor": 0
      },
      "text/plain": [
       "Export report to file:   0%|          | 0/1 [00:00<?, ?it/s]"
      ]
     },
     "metadata": {},
     "output_type": "display_data"
    }
   ],
   "source": [
    "from ydata_profiling import ProfileReport\n",
    "ProfileReport(df,title=\"Profile Report\").to_file(str(report_dir/f\"features_eda.html\"))"
   ]
  },
  {
   "cell_type": "code",
   "execution_count": 17,
   "id": "f4f46f65",
   "metadata": {},
   "outputs": [
    {
     "data": {
      "text/plain": [
       "205      normal\n",
       "567      poison\n",
       "411         bug\n",
       "701    electric\n",
       "183       water\n",
       "217        fire\n",
       "471      ground\n",
       "536       water\n",
       "334      normal\n",
       "535       water\n",
       "40       poison\n",
       "755       grass\n",
       "698        rock\n",
       "742         bug\n",
       "366       water\n",
       "Name: type1, dtype: object"
      ]
     },
     "execution_count": 17,
     "metadata": {},
     "output_type": "execute_result"
    }
   ],
   "source": [
    "vals = df.sample(15)[\"type1\"]\n",
    "vals"
   ]
  },
  {
   "cell_type": "code",
   "execution_count": 20,
   "id": "35ae1152",
   "metadata": {},
   "outputs": [
    {
     "name": "stdout",
     "output_type": "stream",
     "text": [
      "Encoding :  [0 1 2 3 4 5 6 4 0 4 1 7 8 2 4]\n",
      "Unique Categories :  Index(['normal', 'poison', 'bug', 'electric', 'water', 'fire', 'ground',\n",
      "       'grass', 'rock'],\n",
      "      dtype='object')\n"
     ]
    }
   ],
   "source": [
    "codes, uniques = pd.factorize(vals)\n",
    "print(\"Encoding : \", codes)\n",
    "print(\"Unique Categories : \", uniques)"
   ]
  },
  {
   "cell_type": "code",
   "execution_count": null,
   "id": "cd6f3823",
   "metadata": {},
   "outputs": [],
   "source": [
    "# Convert to numeric\n",
    "obj_cols = list(df.select_dtypes(['object']).columns)\n",
    "df[obj_cols] = df[obj_cols].apply(pd.to_numeric, errors='ignore', downcast=\"float\")\n",
    "\n",
    "# Repeat this once more\n",
    "obj_cols = list(df.select_dtypes(['object']).columns)"
   ]
  },
  {
   "cell_type": "code",
   "execution_count": null,
   "id": "90593763",
   "metadata": {},
   "outputs": [],
   "source": [
    "# Exclude booleans or indicators\n",
    "bool_cols = df.select_dtypes(include=boolean).columns.tolist()\n",
    "num_cols = df.select_dtypes(include=np.number).columns.tolist()\n",
    "\n",
    "\n",
    "# Verify and enforce casting\n",
    "num_cols = [x for x in num_cols if x not in bool_cols]\n",
    "df[num_cols] = df[num_cols].astype(np.float32)\n",
    "\n",
    "\n",
    "# Min-max Scaling\n",
    "from sklearn.preprocessing import minmax_scale\n",
    "df[num_cols] = minmax_scale(df[num_cols])"
   ]
  },
  {
   "cell_type": "code",
   "execution_count": null,
   "id": "ca359f2f",
   "metadata": {},
   "outputs": [],
   "source": [
    "# Time based features\n",
    "df[\"date\"] = pd.to_datetime(df[\"date\"], infer_datetime_format=True)\n",
    "df[\"current_date\"] = pd.to_datetime('today').normalize()\n",
    "df[\"elapsed\"] = (df[\"current_date\"] - df[\"date\"]) / pd.Timedelta(days=1)\n"
   ]
  },
  {
   "cell_type": "code",
   "execution_count": 35,
   "id": "bc3c22ee",
   "metadata": {},
   "outputs": [],
   "source": [
    "def add_datepart(df, col, drop=False):\n",
    "    \"\"\"\n",
    "    Extract all pieces of the datetime object into columns\n",
    "    :param df: DataFrame\n",
    "    :param col: The column that is the timestamp\n",
    "    :param drop: Delete the existing timestamp column\n",
    "    :return:\n",
    "    \"\"\"\n",
    "    fld = df[col]\n",
    "    if not np.issubdtype(fld.dtype, np.datetime64):\n",
    "        df[col] = fld = pd.to_datetime(fld, infer_datetime_format=True)\n",
    "    targ_pre = re.sub('[Dd]ate$', '', col)\n",
    "    for n in ('Year', 'Month', 'Week', 'Day',\n",
    "              'Dayofweek', 'Dayofyear',\n",
    "              'Is_month_end', 'Is_month_start',\n",
    "              'Is_quarter_end', 'Is_quarter_start',\n",
    "              'Is_year_end', 'Is_year_start'):\n",
    "        df[targ_pre +\"_\"+ n] = getattr(fld.dt, n.lower())\n",
    "    #df[targ_pre + 'Elapsed'] = fld.astype(np.int64) // 10 ** 9\n",
    "    if drop:\n",
    "        df.drop(col, axis=1, inplace=True)\n",
    "\n"
   ]
  },
  {
   "cell_type": "code",
   "execution_count": 36,
   "id": "af373c95",
   "metadata": {},
   "outputs": [],
   "source": [
    "import warnings\n",
    "warnings.simplefilter(action=\"ignore\")"
   ]
  },
  {
   "cell_type": "code",
   "execution_count": 44,
   "id": "c989e287",
   "metadata": {},
   "outputs": [
    {
     "data": {
      "text/html": [
       "<div>\n",
       "<style scoped>\n",
       "    .dataframe tbody tr th:only-of-type {\n",
       "        vertical-align: middle;\n",
       "    }\n",
       "\n",
       "    .dataframe tbody tr th {\n",
       "        vertical-align: top;\n",
       "    }\n",
       "\n",
       "    .dataframe thead th {\n",
       "        text-align: right;\n",
       "    }\n",
       "</style>\n",
       "<table border=\"1\" class=\"dataframe\">\n",
       "  <thead>\n",
       "    <tr style=\"text-align: right;\">\n",
       "      <th></th>\n",
       "      <th>title</th>\n",
       "      <th>timestamp</th>\n",
       "    </tr>\n",
       "  </thead>\n",
       "  <tbody>\n",
       "    <tr>\n",
       "      <th>0</th>\n",
       "      <td>Health Canada approves AstraZeneca COVID-19 va...</td>\n",
       "      <td>2021-02-27 06:33:45</td>\n",
       "    </tr>\n",
       "    <tr>\n",
       "      <th>1</th>\n",
       "      <td>COVID-19 in Canada: 'Vaccination passports' a ...</td>\n",
       "      <td>2021-02-26 07:11:07</td>\n",
       "    </tr>\n",
       "    <tr>\n",
       "      <th>2</th>\n",
       "      <td>Coronavirus variants could fuel Canada's third...</td>\n",
       "      <td>2021-02-21 07:50:08</td>\n",
       "    </tr>\n",
       "    <tr>\n",
       "      <th>3</th>\n",
       "      <td>Canadian government to extend COVID-19 emergen...</td>\n",
       "      <td>2021-02-20 06:35:13</td>\n",
       "    </tr>\n",
       "    <tr>\n",
       "      <th>4</th>\n",
       "      <td>Canada: Pfizer is 'extremely committed' to mee...</td>\n",
       "      <td>2021-02-16 11:36:28</td>\n",
       "    </tr>\n",
       "  </tbody>\n",
       "</table>\n",
       "</div>"
      ],
      "text/plain": [
       "                                               title            timestamp\n",
       "0  Health Canada approves AstraZeneca COVID-19 va...  2021-02-27 06:33:45\n",
       "1  COVID-19 in Canada: 'Vaccination passports' a ...  2021-02-26 07:11:07\n",
       "2  Coronavirus variants could fuel Canada's third...  2021-02-21 07:50:08\n",
       "3  Canadian government to extend COVID-19 emergen...  2021-02-20 06:35:13\n",
       "4  Canada: Pfizer is 'extremely committed' to mee...  2021-02-16 11:36:28"
      ]
     },
     "execution_count": 44,
     "metadata": {},
     "output_type": "execute_result"
    }
   ],
   "source": [
    "df2 = pd.read_csv(data_path/\"reddit_vm.csv\")[[\"title\",\"timestamp\"]]\n",
    "x = df2.head(5)\n",
    "x"
   ]
  },
  {
   "cell_type": "code",
   "execution_count": 46,
   "id": "ac95f5bd",
   "metadata": {},
   "outputs": [
    {
     "data": {
      "text/html": [
       "<div>\n",
       "<style scoped>\n",
       "    .dataframe tbody tr th:only-of-type {\n",
       "        vertical-align: middle;\n",
       "    }\n",
       "\n",
       "    .dataframe tbody tr th {\n",
       "        vertical-align: top;\n",
       "    }\n",
       "\n",
       "    .dataframe thead th {\n",
       "        text-align: right;\n",
       "    }\n",
       "</style>\n",
       "<table border=\"1\" class=\"dataframe\">\n",
       "  <thead>\n",
       "    <tr style=\"text-align: right;\">\n",
       "      <th></th>\n",
       "      <th>title</th>\n",
       "      <th>timestamp_Year</th>\n",
       "      <th>timestamp_Month</th>\n",
       "      <th>timestamp_Week</th>\n",
       "      <th>timestamp_Day</th>\n",
       "      <th>timestamp_Dayofweek</th>\n",
       "      <th>timestamp_Dayofyear</th>\n",
       "      <th>timestamp_Is_month_end</th>\n",
       "      <th>timestamp_Is_month_start</th>\n",
       "      <th>timestamp_Is_quarter_end</th>\n",
       "      <th>timestamp_Is_quarter_start</th>\n",
       "      <th>timestamp_Is_year_end</th>\n",
       "      <th>timestamp_Is_year_start</th>\n",
       "    </tr>\n",
       "  </thead>\n",
       "  <tbody>\n",
       "    <tr>\n",
       "      <th>0</th>\n",
       "      <td>Health Canada approves AstraZeneca COVID-19 va...</td>\n",
       "      <td>2021</td>\n",
       "      <td>2</td>\n",
       "      <td>8</td>\n",
       "      <td>27</td>\n",
       "      <td>5</td>\n",
       "      <td>58</td>\n",
       "      <td>False</td>\n",
       "      <td>False</td>\n",
       "      <td>False</td>\n",
       "      <td>False</td>\n",
       "      <td>False</td>\n",
       "      <td>False</td>\n",
       "    </tr>\n",
       "    <tr>\n",
       "      <th>1</th>\n",
       "      <td>COVID-19 in Canada: 'Vaccination passports' a ...</td>\n",
       "      <td>2021</td>\n",
       "      <td>2</td>\n",
       "      <td>8</td>\n",
       "      <td>26</td>\n",
       "      <td>4</td>\n",
       "      <td>57</td>\n",
       "      <td>False</td>\n",
       "      <td>False</td>\n",
       "      <td>False</td>\n",
       "      <td>False</td>\n",
       "      <td>False</td>\n",
       "      <td>False</td>\n",
       "    </tr>\n",
       "    <tr>\n",
       "      <th>2</th>\n",
       "      <td>Coronavirus variants could fuel Canada's third...</td>\n",
       "      <td>2021</td>\n",
       "      <td>2</td>\n",
       "      <td>7</td>\n",
       "      <td>21</td>\n",
       "      <td>6</td>\n",
       "      <td>52</td>\n",
       "      <td>False</td>\n",
       "      <td>False</td>\n",
       "      <td>False</td>\n",
       "      <td>False</td>\n",
       "      <td>False</td>\n",
       "      <td>False</td>\n",
       "    </tr>\n",
       "    <tr>\n",
       "      <th>3</th>\n",
       "      <td>Canadian government to extend COVID-19 emergen...</td>\n",
       "      <td>2021</td>\n",
       "      <td>2</td>\n",
       "      <td>7</td>\n",
       "      <td>20</td>\n",
       "      <td>5</td>\n",
       "      <td>51</td>\n",
       "      <td>False</td>\n",
       "      <td>False</td>\n",
       "      <td>False</td>\n",
       "      <td>False</td>\n",
       "      <td>False</td>\n",
       "      <td>False</td>\n",
       "    </tr>\n",
       "    <tr>\n",
       "      <th>4</th>\n",
       "      <td>Canada: Pfizer is 'extremely committed' to mee...</td>\n",
       "      <td>2021</td>\n",
       "      <td>2</td>\n",
       "      <td>7</td>\n",
       "      <td>16</td>\n",
       "      <td>1</td>\n",
       "      <td>47</td>\n",
       "      <td>False</td>\n",
       "      <td>False</td>\n",
       "      <td>False</td>\n",
       "      <td>False</td>\n",
       "      <td>False</td>\n",
       "      <td>False</td>\n",
       "    </tr>\n",
       "  </tbody>\n",
       "</table>\n",
       "</div>"
      ],
      "text/plain": [
       "                                               title  timestamp_Year  \\\n",
       "0  Health Canada approves AstraZeneca COVID-19 va...            2021   \n",
       "1  COVID-19 in Canada: 'Vaccination passports' a ...            2021   \n",
       "2  Coronavirus variants could fuel Canada's third...            2021   \n",
       "3  Canadian government to extend COVID-19 emergen...            2021   \n",
       "4  Canada: Pfizer is 'extremely committed' to mee...            2021   \n",
       "\n",
       "   timestamp_Month  timestamp_Week  timestamp_Day  timestamp_Dayofweek  \\\n",
       "0                2               8             27                    5   \n",
       "1                2               8             26                    4   \n",
       "2                2               7             21                    6   \n",
       "3                2               7             20                    5   \n",
       "4                2               7             16                    1   \n",
       "\n",
       "   timestamp_Dayofyear  timestamp_Is_month_end  timestamp_Is_month_start  \\\n",
       "0                   58                   False                     False   \n",
       "1                   57                   False                     False   \n",
       "2                   52                   False                     False   \n",
       "3                   51                   False                     False   \n",
       "4                   47                   False                     False   \n",
       "\n",
       "   timestamp_Is_quarter_end  timestamp_Is_quarter_start  \\\n",
       "0                     False                       False   \n",
       "1                     False                       False   \n",
       "2                     False                       False   \n",
       "3                     False                       False   \n",
       "4                     False                       False   \n",
       "\n",
       "   timestamp_Is_year_end  timestamp_Is_year_start  \n",
       "0                  False                    False  \n",
       "1                  False                    False  \n",
       "2                  False                    False  \n",
       "3                  False                    False  \n",
       "4                  False                    False  "
      ]
     },
     "execution_count": 46,
     "metadata": {},
     "output_type": "execute_result"
    }
   ],
   "source": [
    "add_datepart(x, \"timestamp\", drop=True)\n",
    "x"
   ]
  },
  {
   "cell_type": "code",
   "execution_count": 30,
   "id": "c4768ea5",
   "metadata": {},
   "outputs": [
    {
     "name": "stderr",
     "output_type": "stream",
     "text": [
      "C:\\Users\\snkni\\AppData\\Local\\Temp\\ipykernel_7684\\1292848905.py:18: SettingWithCopyWarning: \n",
      "A value is trying to be set on a copy of a slice from a DataFrame.\n",
      "Try using .loc[row_indexer,col_indexer] = value instead\n",
      "\n",
      "See the caveats in the documentation: https://pandas.pydata.org/pandas-docs/stable/user_guide/indexing.html#returning-a-view-versus-a-copy\n",
      "  df[targ_pre + n] = getattr(fld.dt, n.lower())\n",
      "C:\\Users\\snkni\\AppData\\Local\\Temp\\ipykernel_7684\\1292848905.py:18: FutureWarning: Series.dt.weekofyear and Series.dt.week have been deprecated. Please use Series.dt.isocalendar().week instead.\n",
      "  df[targ_pre + n] = getattr(fld.dt, n.lower())\n",
      "C:\\Users\\snkni\\AppData\\Local\\Temp\\ipykernel_7684\\1292848905.py:18: SettingWithCopyWarning: \n",
      "A value is trying to be set on a copy of a slice from a DataFrame.\n",
      "Try using .loc[row_indexer,col_indexer] = value instead\n",
      "\n",
      "See the caveats in the documentation: https://pandas.pydata.org/pandas-docs/stable/user_guide/indexing.html#returning-a-view-versus-a-copy\n",
      "  df[targ_pre + n] = getattr(fld.dt, n.lower())\n"
     ]
    }
   ],
   "source": []
  },
  {
   "cell_type": "code",
   "execution_count": null,
   "id": "d4fee074",
   "metadata": {},
   "outputs": [],
   "source": [
    "def arc_to_deg(arc):\n",
    "    \"\"\"convert spherical arc length [m] to great circle distance [deg]\"\"\"\n",
    "    return float(arc)/6371/1000 * 180/math.pi\n",
    "\n",
    "def deg_to_arc(deg):\n",
    "    \"\"\"convert great circle distance [deg] to spherical arc length [m]\"\"\"\n",
    "    return float(deg)*6371*1000 * math.pi/180\n",
    "\n",
    "def latlon_to_xyz(lat,lon):\n",
    "    \"\"\"Convert angluar to cartesian coordiantes\n",
    "\n",
    "    latitude is the 90deg - zenith angle in range [-90;90]\n",
    "    lonitude is the azimuthal angle in range [-180;180]\n",
    "    \"\"\"\n",
    "    r = 6371 # https://en.wikipedia.org/wiki/Earth_radius\n",
    "    theta = math.pi/2 - math.radians(lat)\n",
    "    phi = math.radians(lon)\n",
    "    x = r * math.sin(theta) * math.cos(phi) # bronstein (3.381a)\n",
    "    y = r * math.sin(theta) * math.sin(phi)\n",
    "    z = r * math.cos(theta)\n",
    "    return [x,y,z]\n",
    "\n",
    "def xyz_to_latlon (x,y,z):\n",
    "    \"\"\"Convert cartesian to angular lat/lon coordiantes\"\"\"\n",
    "    r = math.sqrt(x**2 + y**2 + z**2)\n",
    "    theta = math.asin(z/r) # https://stackoverflow.com/a/1185413/4933053\n",
    "    phi = math.atan2(y,x)\n",
    "    lat = math.degrees(theta)\n",
    "    lon = math.degrees(phi)\n",
    "    return [lat,lon]"
   ]
  },
  {
   "cell_type": "code",
   "execution_count": null,
   "id": "2494d387",
   "metadata": {},
   "outputs": [],
   "source": [
    "def geodist(coord1,coord2):\n",
    "    \"\"\"\n",
    "    Calculate the distance between\n",
    "    (lat1, lon1), (lat2, lon2)\n",
    "    \"\"\"\n",
    "    # Convert to miles 1km = 0.621371 miles\n",
    "    return round(mpu.haversine_distance(coord1,coord2)*0.621371,2)"
   ]
  },
  {
   "cell_type": "code",
   "execution_count": null,
   "id": "ad5e8ae6",
   "metadata": {},
   "outputs": [],
   "source": [
    "%%time\n",
    "\n",
    "import numba as nb\n",
    "@nb.njit(parallel=True,fastmath=True)\n",
    "def func(len_matrix):\n",
    "    \"\"\"\n",
    "    Create a NxN matrix for distance lookup\n",
    "    :param len_matrix: Number of data points you have\n",
    "    :return: \n",
    "    \"\"\"\n",
    "    zip_dist = np.zeros((len_matrix, ) * 2)\n",
    "    indices = np.arange(len_matrix)\n",
    "    # Get upper triangular pairs \n",
    "    fill_cells = np.stack(np.triu_indices(len_matrix), axis=1)\n",
    "    # Loop through upper triangular indices while avoiding diagonal element indices\n",
    "    for idx in fill_cells:\n",
    "        i,j = indices[idx]\n",
    "        if i!=j:\n",
    "            zip_dist[i][j]= zip_dist[j][i] = geodist(coordinates[i],coordinates[j])\n",
    "    return zip_dist"
   ]
  },
  {
   "cell_type": "code",
   "execution_count": null,
   "id": "ac83d36e",
   "metadata": {},
   "outputs": [],
   "source": [
    "df = pd.read_parquet(featpath, engine='pyarrow')"
   ]
  },
  {
   "cell_type": "code",
   "execution_count": 55,
   "id": "594513e9",
   "metadata": {},
   "outputs": [
    {
     "data": {
      "text/plain": [
       "(10000000, 40)"
      ]
     },
     "execution_count": 55,
     "metadata": {},
     "output_type": "execute_result"
    }
   ],
   "source": [
    "arr = np.random.random((10000000,40))\n",
    "df= pd.DataFrame(arr)\n",
    "arr.shape"
   ]
  },
  {
   "cell_type": "markdown",
   "id": "fe106aa6",
   "metadata": {},
   "source": [
    "### File Save"
   ]
  },
  {
   "cell_type": "code",
   "execution_count": 56,
   "id": "371b3217",
   "metadata": {},
   "outputs": [
    {
     "name": "stdout",
     "output_type": "stream",
     "text": [
      "CPU times: total: 4min 19s\n",
      "Wall time: 5min 29s\n"
     ]
    }
   ],
   "source": [
    "%%time\n",
    "# Saving it to csv - 10 million rows\n",
    "df.to_csv(data_path/\"random_data.csv\")"
   ]
  },
  {
   "cell_type": "code",
   "execution_count": 51,
   "id": "d0da6fd9",
   "metadata": {},
   "outputs": [
    {
     "name": "stdout",
     "output_type": "stream",
     "text": [
      "CPU times: total: 484 ms\n",
      "Wall time: 2.37 s\n"
     ]
    }
   ],
   "source": [
    "%%time\n",
    "# Saving it as numpy array\n",
    "np.save(data_path/\"random_data.npy\",arr)"
   ]
  },
  {
   "cell_type": "markdown",
   "id": "9e79678a",
   "metadata": {},
   "source": [
    "### File Load"
   ]
  },
  {
   "cell_type": "code",
   "execution_count": 59,
   "id": "7ac81562",
   "metadata": {},
   "outputs": [
    {
     "name": "stdout",
     "output_type": "stream",
     "text": [
      "CPU times: total: 46.8 s\n",
      "Wall time: 1min 57s\n"
     ]
    }
   ],
   "source": [
    "%%time\n",
    "# Reading 10 million rows from csv\n",
    "df=pd.read_csv(data_path/\"random_data.csv\")"
   ]
  },
  {
   "cell_type": "code",
   "execution_count": 57,
   "id": "a7b45976",
   "metadata": {},
   "outputs": [
    {
     "name": "stdout",
     "output_type": "stream",
     "text": [
      "CPU times: total: 1.33 s\n",
      "Wall time: 3.03 s\n"
     ]
    }
   ],
   "source": [
    "%%time\n",
    "# Loading the numpy array\n",
    "arr = np.load(data_path/\"random_data.npy\")"
   ]
  },
  {
   "cell_type": "code",
   "execution_count": 7,
   "id": "6e941a74",
   "metadata": {},
   "outputs": [
    {
     "name": "stdout",
     "output_type": "stream",
     "text": [
      "Collecting pyarrow\n",
      "  Using cached pyarrow-13.0.0-cp39-cp39-win_amd64.whl (24.4 MB)\n",
      "Requirement already satisfied: numpy>=1.16.6 in c:\\anaconda3\\lib\\site-packages (from pyarrow) (1.21.6)\n",
      "Installing collected packages: pyarrow\n",
      "Successfully installed pyarrow-13.0.0\n"
     ]
    }
   ],
   "source": [
    "! pip install pyarrow"
   ]
  },
  {
   "cell_type": "code",
   "execution_count": 22,
   "id": "ddcec01e",
   "metadata": {},
   "outputs": [
    {
     "data": {
      "text/plain": [
       "['E:\\\\GIT_ROOT\\\\Learning\\\\exploring-pandas-and-numpy\\\\Data\\\\data_0.parquet',\n",
       " 'E:\\\\GIT_ROOT\\\\Learning\\\\exploring-pandas-and-numpy\\\\Data\\\\data_1.parquet',\n",
       " 'E:\\\\GIT_ROOT\\\\Learning\\\\exploring-pandas-and-numpy\\\\Data\\\\data_2.parquet',\n",
       " 'E:\\\\GIT_ROOT\\\\Learning\\\\exploring-pandas-and-numpy\\\\Data\\\\data_3.parquet',\n",
       " 'E:\\\\GIT_ROOT\\\\Learning\\\\exploring-pandas-and-numpy\\\\Data\\\\data_4.parquet',\n",
       " 'E:\\\\GIT_ROOT\\\\Learning\\\\exploring-pandas-and-numpy\\\\Data\\\\data_5.parquet',\n",
       " 'E:\\\\GIT_ROOT\\\\Learning\\\\exploring-pandas-and-numpy\\\\Data\\\\data_6.parquet',\n",
       " 'E:\\\\GIT_ROOT\\\\Learning\\\\exploring-pandas-and-numpy\\\\Data\\\\data_7.parquet',\n",
       " 'E:\\\\GIT_ROOT\\\\Learning\\\\exploring-pandas-and-numpy\\\\Data\\\\data_8.parquet',\n",
       " 'E:\\\\GIT_ROOT\\\\Learning\\\\exploring-pandas-and-numpy\\\\Data\\\\data_9.parquet']"
      ]
     },
     "execution_count": 22,
     "metadata": {},
     "output_type": "execute_result"
    }
   ],
   "source": [
    "num_files = 10\n",
    "# Run this in a for loop\n",
    "for idx in range(num_files):\n",
    "    df = pd.DataFrame(np.random.random((1000000,5)),columns=[\"A\",\"B\",\"C\",\"D\",\"E\"])\n",
    "    df.to_parquet(data_path/f\"data_{str(idx)}.parquet\",engine=\"pyarrow\")\n",
    "\n",
    "file_list = [str(x) for x in sorted(data_path.glob(\"*.parquet\"))]\n",
    "file_list"
   ]
  },
  {
   "cell_type": "markdown",
   "id": "6d6f6c02",
   "metadata": {},
   "source": [
    "### Loading millions of rows in Pandas"
   ]
  },
  {
   "cell_type": "code",
   "execution_count": 23,
   "id": "987069f7",
   "metadata": {},
   "outputs": [
    {
     "name": "stdout",
     "output_type": "stream",
     "text": [
      "CPU times: total: 219 ms\n",
      "Wall time: 436 ms\n"
     ]
    },
    {
     "data": {
      "text/plain": [
       "(10000000, 5)"
      ]
     },
     "execution_count": 23,
     "metadata": {},
     "output_type": "execute_result"
    }
   ],
   "source": [
    "%%time \n",
    "# Loading chunks into Pandas as a dataframe\n",
    "df_list = []\n",
    "for file in file_list:\n",
    "    df_list.append(pd.read_parquet(file, engine='pyarrow'))\n",
    "df = pd.concat(df_list)\n",
    "df.shape"
   ]
  },
  {
   "cell_type": "markdown",
   "id": "c31c5035",
   "metadata": {},
   "source": [
    "### Loading in Vaex"
   ]
  },
  {
   "cell_type": "code",
   "execution_count": 24,
   "id": "d8d15bb5",
   "metadata": {},
   "outputs": [
    {
     "name": "stdout",
     "output_type": "stream",
     "text": [
      "CPU times: total: 15.6 ms\n",
      "Wall time: 38 ms\n"
     ]
    },
    {
     "data": {
      "text/plain": [
       "(10000000, 5)"
      ]
     },
     "execution_count": 24,
     "metadata": {},
     "output_type": "execute_result"
    }
   ],
   "source": [
    "%%time\n",
    "# Loading data in Vaex\n",
    "import vaex\n",
    "df = vaex.open_many(file_list)\n",
    "df.shape"
   ]
  },
  {
   "cell_type": "code",
   "execution_count": null,
   "id": "9c00c2b6",
   "metadata": {},
   "outputs": [],
   "source": []
  }
 ],
 "metadata": {
  "kernelspec": {
   "display_name": "Python 3 (ipykernel)",
   "language": "python",
   "name": "python3"
  },
  "language_info": {
   "codemirror_mode": {
    "name": "ipython",
    "version": 3
   },
   "file_extension": ".py",
   "mimetype": "text/x-python",
   "name": "python",
   "nbconvert_exporter": "python",
   "pygments_lexer": "ipython3",
   "version": "3.9.12"
  }
 },
 "nbformat": 4,
 "nbformat_minor": 5
}
